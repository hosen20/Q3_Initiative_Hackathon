{
  "cells": [
    {
      "cell_type": "markdown",
      "id": "b01016bc-9cb1-4e7c-bb17-743f34f23604",
      "metadata": {
        "id": "b01016bc-9cb1-4e7c-bb17-743f34f23604"
      },
      "source": [
        "### QSE for the N2H2 molecule\n",
        "Using Qiskit and Pyscf"
      ]
    },
    {
      "cell_type": "markdown",
      "id": "d4d85fa0-0c57-4143-805b-026129763b94",
      "metadata": {
        "id": "d4d85fa0-0c57-4143-805b-026129763b94"
      },
      "source": [
        "In this notebook QSE algorithm (Quantum Subspace Expansion) is implemented and used to find both the first excited state and the ground state of the $N_{2}$$H_{2}$ molecule.\n",
        "\n",
        "The results of QSE are then compared to the classical solver of Pyscf, a lightweight, modular platform for quantum chemistry and solid-state calculations.\n",
        "\n",
        "In contrast to the previous notebook for $H_{2}$ we will find specifically what we call the gap, but to find this gap we will find the energy of ground and first excited states."
      ]
    },
    {
      "cell_type": "markdown",
      "id": "c65936d9-bfaa-43fb-8636-d9e7bd2162a0",
      "metadata": {
        "id": "c65936d9-bfaa-43fb-8636-d9e7bd2162a0"
      },
      "source": [
        "### Outline\n",
        "<ol>\n",
        "    <li>Role of N2H2 in fertilizers</li>\n",
        "    <li>Required installs</li>\n",
        "    <li>Algorithm steps</li>\n",
        "    <li>Required imports</li>\n",
        "    <li>Building the hamiltonian</li>\n",
        "    <li>Building the ansatz and running VQE</li>\n",
        "    <li>Building the excitation operators and subspace matrices</li>\n",
        "    <li>Running the soluition</li>\n",
        "    <li>Classical solution using Pyscf</li>\n",
        "    <li>Conclusion</li>\n",
        "    <li>References</li>\n",
        "    <li>Versions</li>\n",
        "</ol>"
      ]
    },
    {
      "cell_type": "markdown",
      "source": [
        "### Role of N2H2 in fertilizers\n",
        "<hr>"
      ],
      "metadata": {
        "id": "U0TXbvdFxY9u"
      },
      "id": "U0TXbvdFxY9u"
    },
    {
      "cell_type": "markdown",
      "source": [
        "Today, roughly 80% of the annually produced ammonia $NH_{3}$ is used for fertilizer production. $N_{2}$ is first transformed into diazene ($N_{2}H_{2}$) before being transformed into ammonia as shown in the following two equations.\n",
        "\n",
        "$\\text{N}_2 + 2\\text{H}^+ + 2\\text{e}^- \\rightarrow \\text{N}_2\\text{H}_2$\n",
        "\n",
        "$\\text{N}_2\\text{H}_2 + 4\\text{H}^+ + 4\\text{e}^- \\rightarrow 2\\text{NH}_3$\n",
        "\n",
        "We can design better catalyst for generating Ammonia from diazene and this is very important as 1-2% of annual energy is used in fertilizers production.\n",
        "\n",
        "Diazene (N₂H₂) is a fragile and reactive intermediate in nitrogen reduction pathways. Without the right environment, it can decompose, follow unproductive routes, or simply fail to convert into ammonia (NH₃). This is where the photocatalyst becomes essential.\n",
        "\n",
        "A well-designed photocatalyst absorbs light and generates excited electrons that can be transferred to diazene, pushing it toward further reduction. But for this transfer to be efficient, the photocatalyst’s electronic structure — particularly its conduction band edge — must align with diazene’s excited-state energy levels.\n",
        "\n",
        "Knowing the energy gap between diazene’s ground and first excited state allows researchers to:\n",
        "\n",
        "1. Tune the photocatalyst’s band structure to match diazene’s reactivity window\n",
        "\n",
        "2. Stabilize diazene long enough for it to undergo productive transformation\n",
        "\n",
        "3. Avoid energy losses due to mismatched excitation or unwanted side reactions\n",
        "\n",
        "4. Select materials (like TiO₂, g-C₃N₄, or metal-organic frameworks) that interact optimally with diazene’s electronic states\n",
        "\n",
        "In short, the photocatalyst acts as both an energy mediator and a reaction guide, and understanding diazene’s excited-state behavior is what allows it to do that job well. This synergy is what makes the transformation from N₂H₂ to NH₃ faster, cleaner, and more efficient — a key step toward sustainable nitrogen fixation."
      ],
      "metadata": {
        "id": "H8bA4WJlxcKm"
      },
      "id": "H8bA4WJlxcKm"
    },
    {
      "cell_type": "markdown",
      "source": [
        "### Required installs\n",
        "<hr>"
      ],
      "metadata": {
        "id": "1-YP2nhENWHM"
      },
      "id": "1-YP2nhENWHM"
    },
    {
      "cell_type": "markdown",
      "source": [
        "The required installation steps are shown in the github Readme file also. If installed there then no need to reinstall here."
      ],
      "metadata": {
        "id": "4w4Q-eBYNsn6"
      },
      "id": "4w4Q-eBYNsn6"
    },
    {
      "cell_type": "code",
      "source": [
        "#!pip install qiskit['all']==1.4.4"
      ],
      "metadata": {
        "id": "jBZZ_2d8t4EH"
      },
      "id": "jBZZ_2d8t4EH",
      "execution_count": 40,
      "outputs": []
    },
    {
      "cell_type": "code",
      "source": [
        "#!pip install qiskit-nature-pyscf"
      ],
      "metadata": {
        "id": "JiA1U9_VuHnx"
      },
      "id": "JiA1U9_VuHnx",
      "execution_count": 41,
      "outputs": []
    },
    {
      "cell_type": "code",
      "source": [
        "#!pip install qiskit-aer"
      ],
      "metadata": {
        "id": "SfhtfCZyuIp4"
      },
      "id": "SfhtfCZyuIp4",
      "execution_count": 42,
      "outputs": []
    },
    {
      "cell_type": "markdown",
      "source": [
        "### Algorithm steps\n",
        "<hr>"
      ],
      "metadata": {
        "id": "Kws-RlrJK6-f"
      },
      "id": "Kws-RlrJK6-f"
    },
    {
      "cell_type": "markdown",
      "source": [
        "QSE is an algorithm for finding excited states of a given Hamiltonian $H$. It resembles the configuration interaction method in quantum chemistry.\n",
        "\n",
        "1. ***Excitation Operators:***\n",
        "Determine a set of excitation operators $E_1, \\dots, E_M$ and a reference (approximate) ground state $|\\psi_{GS}\\rangle$. Single excitations of electrons, $c^\\dagger_j c_l$ ($j, l = 0, 1, \\dots$), are one of the common choices of the excitation operators. For notational convenience, we add $E_0 = I$ (identity operator) to the set of excitation operators. Note that $E_0 |\\psi_{GS}\\rangle = |\\psi_{GS}\\rangle$.\n",
        "\n",
        "2. ***Ground state energy calculation:***\n",
        "Prepare the approximate ground state $|\\psi_{GS}\\rangle$, obtained by the VQE algorithm (or other methods), on quantum computers.\n",
        "\n",
        "3. ***Build the $S$ and $h$ matrices:***\n",
        "Measure quantities $h_{ij} = \\langle \\psi_{GS} | E_i^\\dagger H E_j | \\psi_{GS} \\rangle$ and $S_{ij} = \\langle \\psi_{GS} | E_i^\\dagger E_j | \\psi_{GS} \\rangle$ on quantum computers ($i, j = 0, \\dots, M$).\n",
        "\n",
        "4. ***Diagonalization:***\n",
        "Diagonalize the Hamiltonian within the subspace spanned by $E_0 |\\psi_{GS}\\rangle, \\dots, E_M |\\psi_{GS}\\rangle$. Namely, solve a generalized eigenvalue problem within the subspace:  \n",
        "$hC = SC E'$,  where $C$ is the coefficient vector for (approximate) eigenvectors and $E'$ is a diagonal matrix whose diagonal elements are (approximate) eigenvalues of $H$.\n",
        "\n",
        "It is noted that the QSE also plays a role in mitigating noise errors inevitable in NISQ devices (see reference below).\n"
      ],
      "metadata": {
        "id": "bWsZLLVOLM3g"
      },
      "id": "bWsZLLVOLM3g"
    },
    {
      "cell_type": "markdown",
      "id": "b149b89d-a1df-4e4d-b465-43c435d8390e",
      "metadata": {
        "id": "b149b89d-a1df-4e4d-b465-43c435d8390e"
      },
      "source": [
        "### Required imports\n",
        "<hr>"
      ]
    },
    {
      "cell_type": "code",
      "source": [
        "from qiskit_nature.second_q.drivers import PySCFDriver\n",
        "from qiskit_nature.second_q.mappers import JordanWignerMapper\n",
        "from qiskit_nature.second_q.circuit.library import UCCSD, HartreeFock\n",
        "from qiskit_nature.second_q.operators import FermionicOp\n",
        "from qiskit_algorithms import VQE\n",
        "from qiskit_algorithms.optimizers import COBYLA\n",
        "from qiskit_algorithms.optimizers import SLSQP\n",
        "from qiskit.primitives import StatevectorEstimator\n",
        "from qiskit.quantum_info import Statevector\n",
        "from scipy.linalg import eigh\n",
        "from qiskit_nature.second_q.transformers import ActiveSpaceTransformer\n",
        "from qiskit.circuit.library import TwoLocal\n",
        "import numpy as np\n",
        "\n",
        "from pyscf import gto, scf\n",
        "from pyscf import fci"
      ],
      "metadata": {
        "id": "Hba5JlzVX6kS"
      },
      "execution_count": 43,
      "outputs": [],
      "id": "Hba5JlzVX6kS"
    },
    {
      "cell_type": "markdown",
      "id": "63bb199a-f1f8-4c13-b89a-4c00d640301b",
      "metadata": {
        "id": "63bb199a-f1f8-4c13-b89a-4c00d640301b"
      },
      "source": [
        "The following cell is to get rid of warnings like deprecated qiskit versions, for example."
      ]
    },
    {
      "cell_type": "code",
      "execution_count": 44,
      "id": "108c4897-c332-432b-93b2-0d3bc45e6381",
      "metadata": {
        "id": "108c4897-c332-432b-93b2-0d3bc45e6381"
      },
      "outputs": [],
      "source": [
        "import warnings\n",
        "warnings.filterwarnings('ignore')"
      ]
    },
    {
      "cell_type": "markdown",
      "source": [
        "### Building the hamiltonian\n",
        "<hr>"
      ],
      "metadata": {
        "id": "pdpCEv4hSa0Y"
      },
      "id": "pdpCEv4hSa0Y"
    },
    {
      "cell_type": "markdown",
      "id": "e64ff50e-2ab6-463b-ae6a-c051d50e8e09",
      "metadata": {
        "id": "e64ff50e-2ab6-463b-ae6a-c051d50e8e09"
      },
      "source": [
        "The $N_{2}H_{2}$ hamiltonian is built by specifying the four constituting atoms with their coordinates in 3D.\n",
        "\n",
        "The electorns that will get excited are that on the outer levels so we will freeze the first twol orbitals. This will make the calculated energy different from that in the classical without freezing but as mentioned, the goal is to calculate the energy gap specifically and not the exact energy of each level.\n",
        "\n",
        "This will be shown later."
      ]
    },
    {
      "cell_type": "code",
      "source": [
        "# Step 1: Define N2H2 molecule and apply orbital freezing\n",
        "driver = PySCFDriver(atom=\"N 0.0 0.0 0.0; N 0.0 0.0 1.2; H 0.0 0.9 -0.4; H 0.0 0.9 1.6\", basis=\"sto3g\")\n",
        "problem = driver.run()\n",
        "\n",
        "# Freeze 2 core orbitals, keep 4 spatial orbitals (8 spin orbitals)\n",
        "transformer = ActiveSpaceTransformer(num_electrons=4, num_spatial_orbitals=4)\n",
        "problem = transformer.transform(problem)\n",
        "\n",
        "# Step 2: Map to qubit Hamiltonian\n",
        "mapper = JordanWignerMapper()\n",
        "qubit_op = mapper.map(problem.hamiltonian.second_q_op())"
      ],
      "metadata": {
        "id": "-9rt8LLl7BTL"
      },
      "id": "-9rt8LLl7BTL",
      "execution_count": 45,
      "outputs": []
    },
    {
      "cell_type": "code",
      "source": [
        "qubit_op"
      ],
      "metadata": {
        "colab": {
          "base_uri": "https://localhost:8080/"
        },
        "id": "eiJ8mYAv68lo",
        "outputId": "16b1961b-5876-47f1-cb64-060eb10281d5"
      },
      "id": "eiJ8mYAv68lo",
      "execution_count": 46,
      "outputs": [
        {
          "output_type": "execute_result",
          "data": {
            "text/plain": [
              "SparsePauliOp(['IIIIIIII', 'IIIIIIIZ', 'IIIIIIZI', 'IIIIIZII', 'IIIIZIII', 'IIIZIIII', 'IIZIIIII', 'IZIIIIII', 'ZIIIIIII', 'IIIIIIZZ', 'IIIIIZIZ', 'IIIIZIIZ', 'IIIZIIIZ', 'IIZIIIIZ', 'IZIIIIIZ', 'ZIIIIIIZ', 'IIIIYYYY', 'IIIIXXYY', 'IIIIYXXY', 'IIIIXYYX', 'IIIIYYXX', 'IIIIXXXX', 'IIYYIIYY', 'IIXXIIYY', 'IIYYIIXX', 'IIXXIIXX', 'YYIIIIYY', 'XXIIIIYY', 'YYIIIIXX', 'XXIIIIXX', 'IYZYIYZY', 'IXZXIYZY', 'IYZYIXZX', 'IXZXIXZX', 'YZYIIYZY', 'XZXIIYZY', 'YZYIIXZX', 'XZXIIXZX', 'YZZYYZZY', 'XZZXYZZY', 'YZZYXZZX', 'XZZXXZZX', 'IYYIYZZY', 'IXXIYZZY', 'IYYIXZZX', 'IXXIXZZX', 'IIIIIZZI', 'IIIIZIZI', 'IIIZIIZI', 'IIZIIIZI', 'IZIIIIZI', 'ZIIIIIZI', 'YZZYIYYI', 'XZZXIYYI', 'YZZYIXXI', 'XZZXIXXI', 'IYYIIYYI', 'IXXIIYYI', 'IYYIIXXI', 'IXXIIXXI', 'IYZYYZYI', 'IXZXYZYI', 'IYZYXZXI', 'IXZXXZXI', 'YZYIYZYI', 'XZXIYZYI', 'YZYIXZXI', 'XZXIXZXI', 'IIIIZZII', 'IIIZIZII', 'IIZIIZII', 'IZIIIZII', 'ZIIIIZII', 'IIYYYYII', 'IIXXYYII', 'IIYYXXII', 'IIXXXXII', 'YYIIYYII', 'XXIIYYII', 'YYIIXXII', 'XXIIXXII', 'IIIZZIII', 'IIZIZIII', 'IZIIZIII', 'ZIIIZIII', 'IIZZIIII', 'IZIZIIII', 'ZIIZIIII', 'YYYYIIII', 'XXYYIIII', 'YXXYIIII', 'XYYXIIII', 'YYXXIIII', 'XXXXIIII', 'IZZIIIII', 'ZIZIIIII', 'ZZIIIIII'],\n",
              "              coeffs=[-3.30367379e+00+0.j,  1.75289371e-01+0.j,  9.22997230e-02+0.j,\n",
              " -9.50827043e-03+0.j, -2.09313296e-01+0.j,  1.75289371e-01+0.j,\n",
              "  9.22997230e-02+0.j, -9.50827043e-03+0.j, -2.09313296e-01+0.j,\n",
              "  1.15545543e-01+0.j,  9.44906381e-02+0.j,  1.01417055e-01+0.j,\n",
              "  1.43152422e-01+0.j,  1.21505654e-01+0.j,  1.43678069e-01+0.j,\n",
              "  1.05171719e-01+0.j, -4.57379503e-05+0.j,  1.42127829e-03+0.j,\n",
              " -1.46701624e-03+0.j, -1.46701624e-03+0.j,  1.42127829e-03+0.j,\n",
              " -4.57379503e-05+0.j,  5.96011179e-03+0.j,  5.96011179e-03+0.j,\n",
              "  5.96011179e-03+0.j,  5.96011179e-03+0.j, -1.34619670e-03+0.j,\n",
              " -1.34619670e-03+0.j, -1.34619670e-03+0.j, -1.34619670e-03+0.j,\n",
              "  4.91874311e-02+0.j,  4.91874311e-02+0.j,  4.91874311e-02+0.j,\n",
              "  4.91874311e-02+0.j, -2.76747499e-03+0.j, -2.76747499e-03+0.j,\n",
              " -2.76747499e-03+0.j, -2.76747499e-03+0.j,  3.75466418e-03+0.j,\n",
              "  3.75466418e-03+0.j,  3.75466418e-03+0.j,  3.75466418e-03+0.j,\n",
              " -1.30045874e-03+0.j, -1.30045874e-03+0.j, -1.30045874e-03+0.j,\n",
              " -1.30045874e-03+0.j,  1.16676286e-01+0.j,  9.41868760e-02+0.j,\n",
              "  1.21505654e-01+0.j,  1.30657557e-01+0.j,  1.25001263e-01+0.j,\n",
              "  1.04896561e-01+0.j, -1.30045874e-03+0.j, -1.30045874e-03+0.j,\n",
              " -1.30045874e-03+0.j, -1.30045874e-03+0.j,  8.32497694e-03+0.j,\n",
              "  8.32497694e-03+0.j,  8.32497694e-03+0.j,  8.32497694e-03+0.j,\n",
              " -2.76747499e-03+0.j, -2.76747499e-03+0.j, -2.76747499e-03+0.j,\n",
              " -2.76747499e-03+0.j,  1.07096851e-02+0.j,  1.07096851e-02+0.j,\n",
              "  1.07096851e-02+0.j,  1.07096851e-02+0.j,  1.03115532e-01+0.j,\n",
              "  1.43678069e-01+0.j,  1.25001263e-01+0.j,  1.47767179e-01+0.j,\n",
              "  1.07425195e-01+0.j, -1.34619670e-03+0.j, -1.34619670e-03+0.j,\n",
              " -1.34619670e-03+0.j, -1.34619670e-03+0.j,  4.30966287e-03+0.j,\n",
              "  4.30966287e-03+0.j,  4.30966287e-03+0.j,  4.30966287e-03+0.j,\n",
              "  1.05171719e-01+0.j,  1.04896561e-01+0.j,  1.07425195e-01+0.j,\n",
              "  1.18340796e-01+0.j,  1.15545543e-01+0.j,  9.44906381e-02+0.j,\n",
              "  1.01417055e-01+0.j, -4.57379503e-05+0.j,  1.42127829e-03+0.j,\n",
              " -1.46701624e-03+0.j, -1.46701624e-03+0.j,  1.42127829e-03+0.j,\n",
              " -4.57379503e-05+0.j,  1.16676286e-01+0.j,  9.41868760e-02+0.j,\n",
              "  1.03115532e-01+0.j])"
            ]
          },
          "metadata": {},
          "execution_count": 46
        }
      ]
    },
    {
      "cell_type": "markdown",
      "id": "1bb37964-9eed-4df6-8708-b69d3f7affbc",
      "metadata": {
        "id": "1bb37964-9eed-4df6-8708-b69d3f7affbc"
      },
      "source": [
        "### Building the ansatz and running VQE\n",
        "<hr>"
      ]
    },
    {
      "cell_type": "markdown",
      "source": [
        "The eigenstate and eigenvalue got from the ground state will be used in the next steps for finding the excited states."
      ],
      "metadata": {
        "id": "nfXipfBUmK1u"
      },
      "id": "nfXipfBUmK1u"
    },
    {
      "cell_type": "code",
      "source": [
        "# Step 3: Build hardware-efficient ansatz and run VQE\n",
        "num_qubits = qubit_op.num_qubits\n",
        "ansatz = TwoLocal(num_qubits, rotation_blocks='ry', entanglement_blocks='cz', reps=2, insert_barriers=True)\n",
        "\n",
        "vqe_solver = VQE(StatevectorEstimator(), ansatz, COBYLA(maxiter=100))\n",
        "vqe_result = vqe_solver.compute_minimum_eigenvalue(qubit_op)\n",
        "params = vqe_result.optimal_parameters"
      ],
      "metadata": {
        "id": "6jHEh13jxLRp"
      },
      "id": "6jHEh13jxLRp",
      "execution_count": 47,
      "outputs": []
    },
    {
      "cell_type": "markdown",
      "source": [
        "### Building the excitation operators and subspace matrices\n",
        "<hr>"
      ],
      "metadata": {
        "id": "Hpiw2Wo5U-Tr"
      },
      "id": "Hpiw2Wo5U-Tr"
    },
    {
      "cell_type": "markdown",
      "source": [
        "Two important points are worth mentioning here.\n",
        "\n",
        "1. Only single excited states operators will be built and used. Other operators like double excitation and spin operators for example can be built. But the simplest case of single excitations will be used for simplicity.\n",
        "\n",
        "2. We have used the simulator to perform VQE in the previous cell, since we will not be using noisy simulators or running on real hardware, we can implement expectation values using tensors and multiplication in the following cell for finding the exited states. This is the same method used by the statevector simulator."
      ],
      "metadata": {
        "id": "YRQpAnG1mbDB"
      },
      "id": "YRQpAnG1mbDB"
    },
    {
      "cell_type": "code",
      "source": [
        "# Step 4: Generate filtered single excitation operators (occupied → virtual only)\n",
        "def generate_filtered_excitations_manual(problem):\n",
        "    # Manually define occupied and virtual spin orbital indices\n",
        "    occ_indices = [0, 1, 2, 3]       # First 4 spin orbitals\n",
        "    virt_indices = [4, 5, 6, 7]      # Last 4 spin orbitals\n",
        "\n",
        "    ops = []\n",
        "    for i in occ_indices:\n",
        "        for j in virt_indices:\n",
        "            label = f\"+_{j} -_{i}\"\n",
        "            ops.append(FermionicOp({label: 1.0}, num_spin_orbitals=problem.num_spin_orbitals))\n",
        "    return ops\n",
        "\n",
        "excitation_ops = generate_filtered_excitations_manual(problem)\n",
        "qubit_excitations = [mapper.map(op) for op in excitation_ops]\n",
        "\n",
        "# Step 5: Prepare ground state vector\n",
        "state = Statevector(ansatz.assign_parameters(params).decompose().to_instruction())"
      ],
      "metadata": {
        "id": "51GwWgwKleRF"
      },
      "id": "51GwWgwKleRF",
      "execution_count": 48,
      "outputs": []
    },
    {
      "cell_type": "code",
      "source": [
        "# Step 6: Build subspace matrices\n",
        "def build_matrices(ops, H, psi):\n",
        "    N = len(ops)\n",
        "    S = np.zeros((N, N))\n",
        "    H_mat = np.zeros((N, N))\n",
        "    for i in range(N):\n",
        "        psi_i = ops[i].to_matrix() @ psi.data\n",
        "        for j in range(N):\n",
        "            psi_j = ops[j].to_matrix() @ psi.data\n",
        "            S[i, j] = np.vdot(psi_i, psi_j).real\n",
        "            H_mat[i, j] = np.vdot(psi_i, H.to_matrix() @ psi_j).real\n",
        "    return H_mat, S\n",
        "\n",
        "H_sub, S_sub = build_matrices(qubit_excitations, qubit_op, state)"
      ],
      "metadata": {
        "id": "XFSSkmIO1a54"
      },
      "id": "XFSSkmIO1a54",
      "execution_count": 49,
      "outputs": []
    },
    {
      "cell_type": "markdown",
      "source": [
        "### Running the solution\n",
        "<hr>"
      ],
      "metadata": {
        "id": "qUaK20HQlpVH"
      },
      "id": "qUaK20HQlpVH"
    },
    {
      "cell_type": "code",
      "source": [
        "# Step 7: Solve generalized eigenvalue problem\n",
        "epsilon = 1e-6\n",
        "S_reg = S_sub + epsilon * np.eye(S_sub.shape[0])\n",
        "eigvals, eigvecs = eigh(H_sub, S_reg)\n",
        "print(\"Excited state energies from QSE:\", eigvals)"
      ],
      "metadata": {
        "colab": {
          "base_uri": "https://localhost:8080/"
        },
        "id": "2AKzcyiOloZt",
        "outputId": "26d24c76-4e21-4961-bba4-7423bc725004"
      },
      "id": "2AKzcyiOloZt",
      "execution_count": 50,
      "outputs": [
        {
          "output_type": "stream",
          "name": "stdout",
          "text": [
            "Excited state energies from QSE: [-4.55833513 -4.45540248 -4.39173454 -4.21572903 -4.20566044 -4.20323486\n",
            " -4.15022979 -4.07849765 -4.03818874 -3.97128756 -3.91112332 -3.88220336\n",
            " -3.86021147 -3.82874223 -3.67469598 -3.5896942 ]\n"
          ]
        }
      ]
    },
    {
      "cell_type": "markdown",
      "id": "cd7e3733-3100-4931-8170-0a8576cd0977",
      "metadata": {
        "id": "cd7e3733-3100-4931-8170-0a8576cd0977"
      },
      "source": [
        "### Classical solution using pyscf:\n",
        "<hr>"
      ]
    },
    {
      "cell_type": "code",
      "source": [
        "# Define N2H2 molecule\n",
        "mol = gto.M(\n",
        "    atom=\"N 0.0 0.0 0.0; N 0.0 0.0 1.2; H 0.0 0.9 -0.4; H 0.0 0.9 1.6\",\n",
        "    basis=\"sto-3g\",\n",
        "    spin=0,\n",
        "    charge=0\n",
        ")\n",
        "\n",
        "# Run Hartree-Fock\n",
        "mf = scf.RHF(mol)\n",
        "mf.kernel()\n",
        "\n",
        "# Instantiate the FCI solver\n",
        "fci_solver = fci.FCI(mf)\n",
        "\n",
        "# Run Full CI (FCI)\n",
        "fci_energies, _ = fci_solver.kernel(nroots=5)\n",
        "\n",
        "print(\"🔬 FCI Energies (Hartree):\")\n",
        "for i, e in enumerate(fci_energies):\n",
        "    print(f\"  State {i}: {e:.6f}\")"
      ],
      "metadata": {
        "colab": {
          "base_uri": "https://localhost:8080/"
        },
        "id": "t8AEeo8EKBU1",
        "outputId": "11a15494-e8d3-4308-c645-aabc26c50858"
      },
      "id": "t8AEeo8EKBU1",
      "execution_count": 51,
      "outputs": [
        {
          "output_type": "stream",
          "name": "stdout",
          "text": [
            "converged SCF energy = -108.524268245802\n",
            "🔬 FCI Energies (Hartree):\n",
            "  State 0: -108.664894\n",
            "  State 1: -108.547690\n",
            "  State 2: -108.501255\n",
            "  State 3: -108.427769\n",
            "  State 4: -108.409634\n"
          ]
        }
      ]
    },
    {
      "cell_type": "code",
      "source": [
        "# FCI excitation gaps\n",
        "fci_gaps = [e - fci_energies[0] for e in fci_energies]\n",
        "# QSE excitation gaps\n",
        "qse_gaps = [e - eigvals[0] for e in eigvals]"
      ],
      "metadata": {
        "id": "HElJm7j-2FVw"
      },
      "id": "HElJm7j-2FVw",
      "execution_count": 52,
      "outputs": []
    },
    {
      "cell_type": "code",
      "source": [
        "fci_gaps"
      ],
      "metadata": {
        "colab": {
          "base_uri": "https://localhost:8080/"
        },
        "id": "s8sSBp0N2MJy",
        "outputId": "08273536-de56-4ffa-f4c5-893530d070d9"
      },
      "id": "s8sSBp0N2MJy",
      "execution_count": 53,
      "outputs": [
        {
          "output_type": "execute_result",
          "data": {
            "text/plain": [
              "[np.float64(0.0),\n",
              " np.float64(0.11720466133641594),\n",
              " np.float64(0.1636396281062389),\n",
              " np.float64(0.23712520819680094),\n",
              " np.float64(0.2552604406120338)]"
            ]
          },
          "metadata": {},
          "execution_count": 53
        }
      ]
    },
    {
      "cell_type": "code",
      "source": [
        "qse_gaps"
      ],
      "metadata": {
        "colab": {
          "base_uri": "https://localhost:8080/"
        },
        "id": "qDAYX7IX2MSK",
        "outputId": "77647848-21cf-4af3-f3e7-dabcdec53b2c"
      },
      "id": "qDAYX7IX2MSK",
      "execution_count": 54,
      "outputs": [
        {
          "output_type": "execute_result",
          "data": {
            "text/plain": [
              "[np.float64(0.0),\n",
              " np.float64(0.10293264764496879),\n",
              " np.float64(0.1666005913696349),\n",
              " np.float64(0.3426060988634543),\n",
              " np.float64(0.3526746868350399),\n",
              " np.float64(0.3551002652031725),\n",
              " np.float64(0.4081053375025254),\n",
              " np.float64(0.479837475284544),\n",
              " np.float64(0.5201463872505023),\n",
              " np.float64(0.5870475672246735),\n",
              " np.float64(0.6472118042469299),\n",
              " np.float64(0.6761317720629263),\n",
              " np.float64(0.6981236613763184),\n",
              " np.float64(0.7295929014494074),\n",
              " np.float64(0.8836391509405233),\n",
              " np.float64(0.9686409303105776)]"
            ]
          },
          "metadata": {},
          "execution_count": 54
        }
      ]
    },
    {
      "cell_type": "markdown",
      "id": "52ceb700-c425-4321-9b65-2eb9ab17fc9f",
      "metadata": {
        "id": "52ceb700-c425-4321-9b65-2eb9ab17fc9f"
      },
      "source": [
        "### Conclusion:\n",
        "<hr>"
      ]
    },
    {
      "cell_type": "markdown",
      "id": "35c406e8-3762-4474-bb80-948d2c458bd4",
      "metadata": {
        "id": "35c406e8-3762-4474-bb80-948d2c458bd4"
      },
      "source": [
        "In this notebook we have shown the following:\n",
        "<ol>\n",
        "    <li>How to build the hamiltonian operator of a molecule.</li>\n",
        "    <li>How to calculate the ground state energy using VQE.</li>\n",
        "    <li>How to calculate the first excited state using QSE.</li>\n",
        "</ol>"
      ]
    },
    {
      "cell_type": "markdown",
      "source": [
        "\\begin{array}{|c|c|c|}\n",
        "\\hline\n",
        "\\textbf{Algorithm} & \\textbf{Gap ground vs 1st excited} & \\textbf{Gap ground vs 2nd excited}\\\\\n",
        "\\hline\n",
        "\\text{QSE} & {0.102} & {0.166} \\\\\n",
        "\\text{Pyscf} & {0.117} & {0.163} \\\\\n",
        "\\hline\n",
        "\\end{array}"
      ],
      "metadata": {
        "id": "7kswOiaCW01e"
      },
      "id": "7kswOiaCW01e"
    },
    {
      "cell_type": "markdown",
      "source": [
        "As said before, for designing this photocatalyst the gap between the ground and first excited states of diazene is the most important and not the exact energy.\n",
        "\n",
        "By freezing the first two orbitals time was hugely reduced as without this reduction the QSE algorithm took 6 hours and did not even finish while with this reduction it takes few seconds only.\n",
        "\n",
        "It is totally reasonable to get different energies from the classical solution compared to QSE since in QSE the first two orbitals were freezed but the gap energies should be near.\n",
        "\n",
        "This huge decrease in energy between the two solvers is because the orbitals near to the nucleus which were freezed hold the highest energy."
      ],
      "metadata": {
        "id": "9bp1eqzAXoE1"
      },
      "id": "9bp1eqzAXoE1"
    },
    {
      "cell_type": "code",
      "source": [
        "print(\"Error qse_gap vs pyscf_gap ground vs 1st excited = \", (0.117 - 0.102)/0.117 * 100, \"%\")"
      ],
      "metadata": {
        "colab": {
          "base_uri": "https://localhost:8080/"
        },
        "id": "MH0ak2bw4ySX",
        "outputId": "39b8f7e2-fe91-432a-ed7d-e5c821bcd25e"
      },
      "id": "MH0ak2bw4ySX",
      "execution_count": 58,
      "outputs": [
        {
          "output_type": "stream",
          "name": "stdout",
          "text": [
            "Error qse_gap vs pyscf_gap ground vs 1st excited =  12.82051282051283 %\n"
          ]
        }
      ]
    },
    {
      "cell_type": "markdown",
      "source": [
        "This error is good knowing that we are not using the best ansatz and optimizer or starting possible parameters. With other modifications this error can decrease a lot. Also, this error changes from run to run as VQE is not deterministic."
      ],
      "metadata": {
        "id": "qMomPazy5QTF"
      },
      "id": "qMomPazy5QTF"
    },
    {
      "cell_type": "markdown",
      "id": "b1b655c6-249c-4e03-aba8-fed26bee23f7",
      "metadata": {
        "id": "b1b655c6-249c-4e03-aba8-fed26bee23f7"
      },
      "source": [
        "### References\n",
        "<hr>"
      ]
    },
    {
      "cell_type": "markdown",
      "id": "fdb12541-7949-4876-bd38-9c469d8bc868",
      "metadata": {
        "id": "fdb12541-7949-4876-bd38-9c469d8bc868"
      },
      "source": [
        "<ol>\n",
        "    <li>Pennylane VQE tutorial and H2 hamiltonian: <a href=\"https://pennylane.ai/qml/demos/tutorial_vqe\">link</a></li>\n",
        "    <li>Qiskit VQE: <a href=\"https://qiskit-community.github.io/qiskit-algorithms/tutorials/03_vqe_simulation_with_noise.html\">link</a></li>\n",
        "    <li>Algorithms for finding ground and excited states: <a href=\"https://quantaggle.com/algorithms/algorithm/\">link</a></li>   \n",
        "</ol>"
      ]
    },
    {
      "cell_type": "markdown",
      "source": [
        "### Versions\n",
        "<hr>"
      ],
      "metadata": {
        "id": "uwIoFAX9Y8wd"
      },
      "id": "uwIoFAX9Y8wd"
    },
    {
      "cell_type": "code",
      "source": [
        "import sys\n",
        "print(sys.version)"
      ],
      "metadata": {
        "colab": {
          "base_uri": "https://localhost:8080/"
        },
        "id": "nISZVS91Y7yU",
        "outputId": "4220749b-c837-49ed-c45b-c24bc4420174"
      },
      "id": "nISZVS91Y7yU",
      "execution_count": 56,
      "outputs": [
        {
          "output_type": "stream",
          "name": "stdout",
          "text": [
            "3.12.11 (main, Jun  4 2025, 08:56:18) [GCC 11.4.0]\n"
          ]
        }
      ]
    },
    {
      "cell_type": "code",
      "source": [
        "import pkg_resources\n",
        "\n",
        "# Loop through installed packages and filter those starting with 'qiskit'\n",
        "for dist in pkg_resources.working_set:\n",
        "    if dist.project_name.lower().startswith(\"qiskit\"):\n",
        "        print(f\"{dist.project_name} == {dist.version}\")"
      ],
      "metadata": {
        "colab": {
          "base_uri": "https://localhost:8080/"
        },
        "id": "fEGct45_ZCxw",
        "outputId": "97b5eec5-c08c-4303-f7f3-f41f3286197a"
      },
      "id": "fEGct45_ZCxw",
      "execution_count": 57,
      "outputs": [
        {
          "output_type": "stream",
          "name": "stdout",
          "text": [
            "qiskit == 1.4.4\n",
            "qiskit-aer == 0.17.1\n",
            "qiskit-algorithms == 0.4.0\n",
            "qiskit-nature == 0.7.2\n",
            "qiskit-nature-pyscf == 0.4.0\n",
            "qiskit-qasm3-import == 0.6.0\n"
          ]
        }
      ]
    }
  ],
  "metadata": {
    "kernelspec": {
      "display_name": "Python 3 (ipykernel)",
      "language": "python",
      "name": "python3"
    },
    "language_info": {
      "codemirror_mode": {
        "name": "ipython",
        "version": 3
      },
      "file_extension": ".py",
      "mimetype": "text/x-python",
      "name": "python",
      "nbconvert_exporter": "python",
      "pygments_lexer": "ipython3",
      "version": "3.10.12"
    },
    "colab": {
      "provenance": []
    }
  },
  "nbformat": 4,
  "nbformat_minor": 5
}