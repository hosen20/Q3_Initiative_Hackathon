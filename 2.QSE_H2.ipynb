{
  "cells": [
    {
      "cell_type": "markdown",
      "id": "b01016bc-9cb1-4e7c-bb17-743f34f23604",
      "metadata": {
        "id": "b01016bc-9cb1-4e7c-bb17-743f34f23604"
      },
      "source": [
        "### QSE for the H2 molecule\n",
        "Using Qiskit and Pyscf"
      ]
    },
    {
      "cell_type": "markdown",
      "id": "d4d85fa0-0c57-4143-805b-026129763b94",
      "metadata": {
        "id": "d4d85fa0-0c57-4143-805b-026129763b94"
      },
      "source": [
        "In this notebook QSE algorithm (Quantum Subspace Expansion) is implemented and used to find both the first excited state and the ground state of the $H_{2}$ molecule.\n",
        "\n",
        "The results of QSE are then compared to the classical solver of Pyscf, a lightweight, modular platform for quantum chemistry and solid-state calculations."
      ]
    },
    {
      "cell_type": "markdown",
      "id": "c65936d9-bfaa-43fb-8636-d9e7bd2162a0",
      "metadata": {
        "id": "c65936d9-bfaa-43fb-8636-d9e7bd2162a0"
      },
      "source": [
        "### Outline\n",
        "<ol>\n",
        "    <li>Required installs</li>\n",
        "    <li>Algorithm steps</li>\n",
        "    <li>Required imports</li>\n",
        "    <li>Building the hamiltonian</li>\n",
        "    <li>Building the ansatz and running VQE</li>\n",
        "    <li>Building the excitation operators and subspace matrices</li>\n",
        "    <li>Running the soluition</li>\n",
        "    <li>Classical solution using Pyscf</li>\n",
        "    <li>Conclusion</li>\n",
        "    <li>References</li>\n",
        "    <li>Versions</li>\n",
        "</ol>"
      ]
    },
    {
      "cell_type": "markdown",
      "source": [
        "### Required installs\n",
        "<hr>"
      ],
      "metadata": {
        "id": "1-YP2nhENWHM"
      },
      "id": "1-YP2nhENWHM"
    },
    {
      "cell_type": "markdown",
      "source": [
        "The required installation steps are shown in the github Readme file also. If installed there then no need to reinstall here."
      ],
      "metadata": {
        "id": "4w4Q-eBYNsn6"
      },
      "id": "4w4Q-eBYNsn6"
    },
    {
      "cell_type": "code",
      "source": [
        "#!pip install qiskit['all']==1.4.4"
      ],
      "metadata": {
        "id": "jBZZ_2d8t4EH"
      },
      "id": "jBZZ_2d8t4EH",
      "execution_count": 4,
      "outputs": []
    },
    {
      "cell_type": "code",
      "source": [
        "#!pip install qiskit-nature-pyscf"
      ],
      "metadata": {
        "id": "JiA1U9_VuHnx"
      },
      "id": "JiA1U9_VuHnx",
      "execution_count": 5,
      "outputs": []
    },
    {
      "cell_type": "code",
      "source": [
        "#!pip install qiskit-aer"
      ],
      "metadata": {
        "id": "SfhtfCZyuIp4"
      },
      "id": "SfhtfCZyuIp4",
      "execution_count": 6,
      "outputs": []
    },
    {
      "cell_type": "markdown",
      "source": [
        "### Algorithm steps\n",
        "<hr>"
      ],
      "metadata": {
        "id": "Kws-RlrJK6-f"
      },
      "id": "Kws-RlrJK6-f"
    },
    {
      "cell_type": "markdown",
      "source": [
        "QSE is an algorithm for finding excited states of a given Hamiltonian $H$. It resembles the configuration interaction method in quantum chemistry.\n",
        "\n",
        "1. ***Excitation Operators:***\n",
        "Determine a set of excitation operators $E_1, \\dots, E_M$ and a reference (approximate) ground state $|\\psi_{GS}\\rangle$. Single excitations of electrons, $c^\\dagger_j c_l$ ($j, l = 0, 1, \\dots$), are one of the common choices of the excitation operators. For notational convenience, we add $E_0 = I$ (identity operator) to the set of excitation operators. Note that $E_0 |\\psi_{GS}\\rangle = |\\psi_{GS}\\rangle$.\n",
        "\n",
        "2. ***Ground state energy calculation:***\n",
        "Prepare the approximate ground state $|\\psi_{GS}\\rangle$, obtained by the VQE algorithm (or other methods), on quantum computers.\n",
        "\n",
        "3. ***Build the $S$ and $h$ matrices:***\n",
        "Measure quantities $h_{ij} = \\langle \\psi_{GS} | E_i^\\dagger H E_j | \\psi_{GS} \\rangle$ and $S_{ij} = \\langle \\psi_{GS} | E_i^\\dagger E_j | \\psi_{GS} \\rangle$ on quantum computers ($i, j = 0, \\dots, M$).\n",
        "\n",
        "4. ***Diagonalization:***\n",
        "Diagonalize the Hamiltonian within the subspace spanned by $E_0 |\\psi_{GS}\\rangle, \\dots, E_M |\\psi_{GS}\\rangle$. Namely, solve a generalized eigenvalue problem within the subspace:  \n",
        "$hC = SC E'$,  where $C$ is the coefficient vector for (approximate) eigenvectors and $E'$ is a diagonal matrix whose diagonal elements are (approximate) eigenvalues of $H$.\n",
        "\n",
        "It is noted that the QSE also plays a role in mitigating noise errors inevitable in NISQ devices (see reference below).\n"
      ],
      "metadata": {
        "id": "bWsZLLVOLM3g"
      },
      "id": "bWsZLLVOLM3g"
    },
    {
      "cell_type": "markdown",
      "id": "b149b89d-a1df-4e4d-b465-43c435d8390e",
      "metadata": {
        "id": "b149b89d-a1df-4e4d-b465-43c435d8390e"
      },
      "source": [
        "### Required imports\n",
        "<hr>"
      ]
    },
    {
      "cell_type": "code",
      "source": [
        "from qiskit_nature.second_q.drivers import PySCFDriver\n",
        "from qiskit_nature.second_q.mappers import JordanWignerMapper\n",
        "from qiskit_nature.second_q.circuit.library import UCCSD, HartreeFock\n",
        "from qiskit_nature.second_q.operators import FermionicOp\n",
        "from qiskit_algorithms import VQE\n",
        "from qiskit_algorithms.optimizers import SLSQP\n",
        "from qiskit.primitives import StatevectorEstimator\n",
        "from qiskit.quantum_info import Statevector\n",
        "from scipy.linalg import eigh\n",
        "import numpy as np\n",
        "\n",
        "from pyscf import gto, scf\n",
        "from pyscf import fci"
      ],
      "metadata": {
        "id": "Hba5JlzVX6kS"
      },
      "execution_count": 7,
      "outputs": [],
      "id": "Hba5JlzVX6kS"
    },
    {
      "cell_type": "markdown",
      "id": "63bb199a-f1f8-4c13-b89a-4c00d640301b",
      "metadata": {
        "id": "63bb199a-f1f8-4c13-b89a-4c00d640301b"
      },
      "source": [
        "The following cell is to get rid of warnings like deprecated qiskit versions, for example."
      ]
    },
    {
      "cell_type": "code",
      "execution_count": 8,
      "id": "108c4897-c332-432b-93b2-0d3bc45e6381",
      "metadata": {
        "id": "108c4897-c332-432b-93b2-0d3bc45e6381"
      },
      "outputs": [],
      "source": [
        "import warnings\n",
        "warnings.filterwarnings('ignore')"
      ]
    },
    {
      "cell_type": "markdown",
      "source": [
        "### Building the hamiltonian\n",
        "<hr>"
      ],
      "metadata": {
        "id": "pdpCEv4hSa0Y"
      },
      "id": "pdpCEv4hSa0Y"
    },
    {
      "cell_type": "markdown",
      "id": "e64ff50e-2ab6-463b-ae6a-c051d50e8e09",
      "metadata": {
        "id": "e64ff50e-2ab6-463b-ae6a-c051d50e8e09"
      },
      "source": [
        "The $H_{2}$ hamiltonian is built by specifying the two constituting $H$ atoms with their coordinates in 3D."
      ]
    },
    {
      "cell_type": "code",
      "source": [
        "# Step 1: Define H2 molecule and get Hamiltonian\n",
        "driver = PySCFDriver(atom=\"H 0.0, 0.0, -0.6614; H 0.0, 0.0, 0.6614\", basis=\"sto3g\")\n",
        "problem = driver.run()\n",
        "mapper = JordanWignerMapper()\n",
        "qubit_op = mapper.map(problem.hamiltonian.second_q_op())"
      ],
      "metadata": {
        "id": "-9rt8LLl7BTL"
      },
      "id": "-9rt8LLl7BTL",
      "execution_count": 9,
      "outputs": []
    },
    {
      "cell_type": "code",
      "source": [
        "qubit_op"
      ],
      "metadata": {
        "colab": {
          "base_uri": "https://localhost:8080/"
        },
        "id": "eiJ8mYAv68lo",
        "outputId": "956359b5-7279-4f08-efc1-7be46188ee8b"
      },
      "id": "eiJ8mYAv68lo",
      "execution_count": 10,
      "outputs": [
        {
          "output_type": "execute_result",
          "data": {
            "text/plain": [
              "SparsePauliOp(['IIII', 'IIIZ', 'IIZI', 'IIZZ', 'IZII', 'IZIZ', 'ZIII', 'ZIIZ', 'YYYY', 'XXYY', 'YYXX', 'XXXX', 'IZZI', 'ZIZI', 'ZZII'],\n",
              "              coeffs=[-0.85624446+0.j,  0.10650235+0.j, -0.06094493+0.j,  0.09024315+0.j,\n",
              "  0.10650235+0.j,  0.14377228+0.j, -0.06094493+0.j,  0.14472511+0.j,\n",
              "  0.05448197+0.j,  0.05448197+0.j,  0.05448197+0.j,  0.05448197+0.j,\n",
              "  0.14472511+0.j,  0.1514208 +0.j,  0.09024315+0.j])"
            ]
          },
          "metadata": {},
          "execution_count": 10
        }
      ]
    },
    {
      "cell_type": "markdown",
      "id": "1bb37964-9eed-4df6-8708-b69d3f7affbc",
      "metadata": {
        "id": "1bb37964-9eed-4df6-8708-b69d3f7affbc"
      },
      "source": [
        "### Building the ansatz and running VQE\n",
        "<hr>"
      ]
    },
    {
      "cell_type": "markdown",
      "source": [
        "The eigenstate and eigenvalue got from the ground state will be used in the next steps for finding the excited states."
      ],
      "metadata": {
        "id": "nfXipfBUmK1u"
      },
      "id": "nfXipfBUmK1u"
    },
    {
      "cell_type": "code",
      "source": [
        "# Step 2: Build ansatz and run VQE\n",
        "ansatz = UCCSD(\n",
        "    problem.num_spatial_orbitals,\n",
        "    problem.num_particles,\n",
        "    mapper,\n",
        "    initial_state=HartreeFock(\n",
        "        problem.num_spatial_orbitals,\n",
        "        problem.num_particles,\n",
        "        mapper\n",
        "    ),\n",
        ")\n",
        "vqe_solver = VQE(StatevectorEstimator(), ansatz, SLSQP())\n",
        "vqe_result = vqe_solver.compute_minimum_eigenvalue(qubit_op)\n",
        "params = vqe_result.optimal_parameters"
      ],
      "metadata": {
        "id": "6jHEh13jxLRp"
      },
      "id": "6jHEh13jxLRp",
      "execution_count": 11,
      "outputs": []
    },
    {
      "cell_type": "markdown",
      "source": [
        "### Building the excitation operators and subspace matrices\n",
        "<hr>"
      ],
      "metadata": {
        "id": "Hpiw2Wo5U-Tr"
      },
      "id": "Hpiw2Wo5U-Tr"
    },
    {
      "cell_type": "markdown",
      "source": [
        "Two important points are worth mentioning here.\n",
        "\n",
        "1. Only single excited states operators will be built and used. Other operators like double excitation and spin operators for example can be built. But the simplest case of single excitations will be used for simplicity.\n",
        "\n",
        "2. We have used the simulator to perform VQE in the previous cell, since we will not be using noisy simulators or running on real hardware, we can implement expectation values using tensors and multiplication in the following cell for finding the exited states. This is the same method used by the statevector simulator."
      ],
      "metadata": {
        "id": "YRQpAnG1mbDB"
      },
      "id": "YRQpAnG1mbDB"
    },
    {
      "cell_type": "code",
      "source": [
        "# Step 3: Generate single excitation operators\n",
        "def generate_excitations(n_orb):\n",
        "    ops = []\n",
        "    for i in range(n_orb):\n",
        "        for j in range(n_orb):\n",
        "            if i != j:\n",
        "                label = f\"+_{i} -_{j}\"\n",
        "                ops.append(FermionicOp({label: 1.0}, num_spin_orbitals=n_orb))\n",
        "    return ops\n",
        "\n",
        "excitation_ops = generate_excitations(problem.num_spin_orbitals)\n",
        "qubit_excitations = [mapper.map(op) for op in excitation_ops]\n",
        "\n",
        "# Step 4: Prepare ground state vector\n",
        "state = Statevector(ansatz.assign_parameters(params).decompose().to_instruction())\n",
        "\n",
        "# Step 5: Build subspace matrices\n",
        "def build_matrices(ops, H, psi):\n",
        "    N = len(ops)\n",
        "    S = np.zeros((N, N))\n",
        "    H_mat = np.zeros((N, N))\n",
        "    for i in range(N):\n",
        "        psi_i = ops[i].to_matrix() @ psi.data\n",
        "        for j in range(N):\n",
        "            psi_j = ops[j].to_matrix() @ psi.data\n",
        "            S[i, j] = np.vdot(psi_i, psi_j).real\n",
        "            H_mat[i, j] = np.vdot(psi_i, H.to_matrix() @ psi_j).real\n",
        "    return H_mat, S\n",
        "\n",
        "H_sub, S_sub = build_matrices(qubit_excitations, qubit_op, state)"
      ],
      "metadata": {
        "id": "51GwWgwKleRF"
      },
      "id": "51GwWgwKleRF",
      "execution_count": 12,
      "outputs": []
    },
    {
      "cell_type": "markdown",
      "source": [
        "### Running the solution\n",
        "<hr>"
      ],
      "metadata": {
        "id": "qUaK20HQlpVH"
      },
      "id": "qUaK20HQlpVH"
    },
    {
      "cell_type": "code",
      "source": [
        "# Step 6: Solve generalized eigenvalue problem\n",
        "epsilon = 1e-6 # epsilon value used as zero values are not allowed\n",
        "S_reg = S_sub + epsilon * np.eye(S_sub.shape[0])\n",
        "eigvals, eigvecs = eigh(H_sub, S_reg)\n",
        "print(\"Excited state energies from QSE:\", eigvals)"
      ],
      "metadata": {
        "colab": {
          "base_uri": "https://localhost:8080/"
        },
        "id": "2AKzcyiOloZt",
        "outputId": "3598cd35-4294-4bb0-a767-3941a7abdb69"
      },
      "id": "2AKzcyiOloZt",
      "execution_count": 13,
      "outputs": [
        {
          "output_type": "stream",
          "name": "stdout",
          "text": [
            "Excited state energies from QSE: [-1.26040021e+00 -1.26040021e+00 -1.26040006e+00 -8.24544918e-01\n",
            " -3.72699993e-01 -4.56105526e-11 -4.06214843e-11 -7.90068984e-17\n",
            " -5.13231016e-18  1.84893929e-17  6.71764436e-17  1.21031950e-11]\n"
          ]
        }
      ]
    },
    {
      "cell_type": "markdown",
      "source": [
        "The first 3 values represent the ground state but with some degeneracy because only the single excitation operators were used. New operators enforce extra conditions so the number of values and degeneracy should decrease.\n",
        "\n",
        "Nonetheless, the first 3 values represent the ground state energy -1.26 and the second value represents the first excited state energy -0.824"
      ],
      "metadata": {
        "id": "jtyAKUuhoCtR"
      },
      "id": "jtyAKUuhoCtR"
    },
    {
      "cell_type": "markdown",
      "id": "cd7e3733-3100-4931-8170-0a8576cd0977",
      "metadata": {
        "id": "cd7e3733-3100-4931-8170-0a8576cd0977"
      },
      "source": [
        "### Classical solution using pyscf:\n",
        "<hr>"
      ]
    },
    {
      "cell_type": "code",
      "source": [
        "# Define H2 molecule\n",
        "mol = gto.M(\n",
        "    atom=\"H 0.0, 0.0, -0.6614; H 0.0, 0.0, 0.6614\",\n",
        "    basis=\"sto-3g\",\n",
        "    spin=0,\n",
        "    charge=0\n",
        ")\n",
        "\n",
        "# Run Hartree-Fock\n",
        "mf = scf.RHF(mol)\n",
        "mf.kernel()\n",
        "\n",
        "# Instantiate the FCI solver\n",
        "fci_solver = fci.FCI(mf)\n",
        "\n",
        "# Run Full CI (FCI)\n",
        "fci_energies, _ = fci_solver.kernel(nroots=5)\n",
        "\n",
        "print(\"🔬 FCI Energies (Hartree):\")\n",
        "for i, e in enumerate(fci_energies):\n",
        "    print(f\"  State {i}: {e:.6f}\")"
      ],
      "metadata": {
        "colab": {
          "base_uri": "https://localhost:8080/"
        },
        "id": "t8AEeo8EKBU1",
        "outputId": "061d8408-5fc4-48ba-fc99-19f6d5a2a8b4"
      },
      "id": "t8AEeo8EKBU1",
      "execution_count": 14,
      "outputs": [
        {
          "output_type": "stream",
          "name": "stdout",
          "text": [
            "converged SCF energy = -0.965839207860032\n",
            "🔬 FCI Energies (Hartree):\n",
            "  State 0: -1.030503\n",
            "  State 1: -0.860358\n",
            "  State 2: -0.424502\n",
            "  State 3: -0.231386\n"
          ]
        }
      ]
    },
    {
      "cell_type": "markdown",
      "id": "52ceb700-c425-4321-9b65-2eb9ab17fc9f",
      "metadata": {
        "id": "52ceb700-c425-4321-9b65-2eb9ab17fc9f"
      },
      "source": [
        "### Conclusion:\n",
        "<hr>"
      ]
    },
    {
      "cell_type": "markdown",
      "id": "35c406e8-3762-4474-bb80-948d2c458bd4",
      "metadata": {
        "id": "35c406e8-3762-4474-bb80-948d2c458bd4"
      },
      "source": [
        "In this notebook we have shown the following:\n",
        "<ol>\n",
        "    <li>How to build the hamiltonian operator of a molecule.</li>\n",
        "    <li>How to calculate the ground state energy using VQE.</li>\n",
        "    <li>How to calculate the first excited state using QSE.</li>\n",
        "</ol>"
      ]
    },
    {
      "cell_type": "markdown",
      "source": [
        "\\begin{array}{|c|c|c|}\n",
        "\\hline\n",
        "\\textbf{Algorithm} & \\textbf{ground state energy} & \\textbf{1st excited energy}\\\\\n",
        "\\hline\n",
        "\\text{QSE} & {-1.26} & -0.824\\\\\n",
        "\\text{Pyscf} & {-1.03} & -0.86\\\\\n",
        "\\hline\n",
        "\\end{array}"
      ],
      "metadata": {
        "id": "7kswOiaCW01e"
      },
      "id": "7kswOiaCW01e"
    },
    {
      "cell_type": "markdown",
      "source": [
        "The ground state energy was a little near to the classical calculated solution but the value of the first excited state was very near and approximately equal to that of the classical solution."
      ],
      "metadata": {
        "id": "9bp1eqzAXoE1"
      },
      "id": "9bp1eqzAXoE1"
    },
    {
      "cell_type": "markdown",
      "id": "b1b655c6-249c-4e03-aba8-fed26bee23f7",
      "metadata": {
        "id": "b1b655c6-249c-4e03-aba8-fed26bee23f7"
      },
      "source": [
        "### References\n",
        "<hr>"
      ]
    },
    {
      "cell_type": "markdown",
      "id": "fdb12541-7949-4876-bd38-9c469d8bc868",
      "metadata": {
        "id": "fdb12541-7949-4876-bd38-9c469d8bc868"
      },
      "source": [
        "<ol>\n",
        "    <li>Pennylane VQE tutorial and H2 hamiltonian: <a href=\"https://pennylane.ai/qml/demos/tutorial_vqe\">link</a></li>\n",
        "    <li>Qiskit VQE: <a href=\"https://qiskit-community.github.io/qiskit-algorithms/tutorials/03_vqe_simulation_with_noise.html\">link</a></li>\n",
        "    <li>Algorithms for finding ground and excited states: <a href=\"https://quantaggle.com/algorithms/algorithm/\">link</a></li>   \n",
        "</ol>"
      ]
    },
    {
      "cell_type": "markdown",
      "source": [
        "### Versions\n",
        "<hr>"
      ],
      "metadata": {
        "id": "uwIoFAX9Y8wd"
      },
      "id": "uwIoFAX9Y8wd"
    },
    {
      "cell_type": "code",
      "source": [
        "import sys\n",
        "print(sys.version)"
      ],
      "metadata": {
        "colab": {
          "base_uri": "https://localhost:8080/"
        },
        "id": "nISZVS91Y7yU",
        "outputId": "bc84e1f0-6883-4df5-dea2-9cadce4c2958"
      },
      "id": "nISZVS91Y7yU",
      "execution_count": 15,
      "outputs": [
        {
          "output_type": "stream",
          "name": "stdout",
          "text": [
            "3.12.11 (main, Jun  4 2025, 08:56:18) [GCC 11.4.0]\n"
          ]
        }
      ]
    },
    {
      "cell_type": "code",
      "source": [
        "import pkg_resources\n",
        "\n",
        "# Loop through installed packages and filter those starting with 'qiskit'\n",
        "for dist in pkg_resources.working_set:\n",
        "    if dist.project_name.lower().startswith(\"qiskit\"):\n",
        "        print(f\"{dist.project_name} == {dist.version}\")"
      ],
      "metadata": {
        "colab": {
          "base_uri": "https://localhost:8080/"
        },
        "id": "fEGct45_ZCxw",
        "outputId": "aad333d7-7c6b-4029-929b-102ec871a8ec"
      },
      "id": "fEGct45_ZCxw",
      "execution_count": 16,
      "outputs": [
        {
          "output_type": "stream",
          "name": "stdout",
          "text": [
            "qiskit == 1.4.4\n",
            "qiskit-aer == 0.17.1\n",
            "qiskit-algorithms == 0.4.0\n",
            "qiskit-nature == 0.7.2\n",
            "qiskit-nature-pyscf == 0.4.0\n",
            "qiskit-qasm3-import == 0.6.0\n"
          ]
        }
      ]
    }
  ],
  "metadata": {
    "kernelspec": {
      "display_name": "Python 3 (ipykernel)",
      "language": "python",
      "name": "python3"
    },
    "language_info": {
      "codemirror_mode": {
        "name": "ipython",
        "version": 3
      },
      "file_extension": ".py",
      "mimetype": "text/x-python",
      "name": "python",
      "nbconvert_exporter": "python",
      "pygments_lexer": "ipython3",
      "version": "3.10.12"
    },
    "colab": {
      "provenance": []
    }
  },
  "nbformat": 4,
  "nbformat_minor": 5
}